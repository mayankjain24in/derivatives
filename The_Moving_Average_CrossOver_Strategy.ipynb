{
 "cells": [
  {
   "cell_type": "code",
   "execution_count": 34,
   "metadata": {},
   "outputs": [],
   "source": [
    "%matplotlib inline\n",
    "import pandas as pd\n",
    "import numpy as np\n",
    "import matplotlib.pyplot as plt\n",
    "#import plotly.graph_objects as go\n",
    "import xlrd\n",
    "import openpyxl"
   ]
  },
  {
   "cell_type": "code",
   "execution_count": 2,
   "metadata": {},
   "outputs": [],
   "source": [
    "df = pd.read_excel(r'C:\\Users\\ABC\\Downloads\\nifty.xlsx')"
   ]
  },
  {
   "cell_type": "code",
   "execution_count": 3,
   "metadata": {},
   "outputs": [
    {
     "data": {
      "text/html": [
       "<div>\n",
       "<style scoped>\n",
       "    .dataframe tbody tr th:only-of-type {\n",
       "        vertical-align: middle;\n",
       "    }\n",
       "\n",
       "    .dataframe tbody tr th {\n",
       "        vertical-align: top;\n",
       "    }\n",
       "\n",
       "    .dataframe thead th {\n",
       "        text-align: right;\n",
       "    }\n",
       "</style>\n",
       "<table border=\"1\" class=\"dataframe\">\n",
       "  <thead>\n",
       "    <tr style=\"text-align: right;\">\n",
       "      <th></th>\n",
       "      <th>Date</th>\n",
       "      <th>High</th>\n",
       "      <th>Low</th>\n",
       "      <th>Close</th>\n",
       "    </tr>\n",
       "  </thead>\n",
       "  <tbody>\n",
       "    <tr>\n",
       "      <th>0</th>\n",
       "      <td>2000-01-03</td>\n",
       "      <td>1592.90</td>\n",
       "      <td>1482.15</td>\n",
       "      <td>1592.2</td>\n",
       "    </tr>\n",
       "    <tr>\n",
       "      <th>1</th>\n",
       "      <td>2000-01-04</td>\n",
       "      <td>1641.95</td>\n",
       "      <td>1594.40</td>\n",
       "      <td>1638.7</td>\n",
       "    </tr>\n",
       "    <tr>\n",
       "      <th>2</th>\n",
       "      <td>2000-01-05</td>\n",
       "      <td>1635.50</td>\n",
       "      <td>1555.05</td>\n",
       "      <td>1595.8</td>\n",
       "    </tr>\n",
       "  </tbody>\n",
       "</table>\n",
       "</div>"
      ],
      "text/plain": [
       "        Date     High      Low   Close\n",
       "0 2000-01-03  1592.90  1482.15  1592.2\n",
       "1 2000-01-04  1641.95  1594.40  1638.7\n",
       "2 2000-01-05  1635.50  1555.05  1595.8"
      ]
     },
     "execution_count": 3,
     "metadata": {},
     "output_type": "execute_result"
    }
   ],
   "source": [
    "df.head(3)"
   ]
  },
  {
   "cell_type": "code",
   "execution_count": 36,
   "metadata": {},
   "outputs": [],
   "source": [
    "df1 = df.copy()"
   ]
  },
  {
   "cell_type": "code",
   "execution_count": 37,
   "metadata": {},
   "outputs": [],
   "source": [
    "m = 50 # shorter moving period\n",
    "n = 150 # longer moving period"
   ]
  },
  {
   "cell_type": "code",
   "execution_count": 38,
   "metadata": {},
   "outputs": [],
   "source": [
    "df1['SMA50'] = np.round(df1['Close'].rolling(window=m).mean(),2)\n",
    "df1['SMA150'] = np.round(df1['Close'].rolling(window=n).mean(),2)"
   ]
  },
  {
   "cell_type": "code",
   "execution_count": 39,
   "metadata": {},
   "outputs": [
    {
     "data": {
      "text/html": [
       "<div>\n",
       "<style scoped>\n",
       "    .dataframe tbody tr th:only-of-type {\n",
       "        vertical-align: middle;\n",
       "    }\n",
       "\n",
       "    .dataframe tbody tr th {\n",
       "        vertical-align: top;\n",
       "    }\n",
       "\n",
       "    .dataframe thead th {\n",
       "        text-align: right;\n",
       "    }\n",
       "</style>\n",
       "<table border=\"1\" class=\"dataframe\">\n",
       "  <thead>\n",
       "    <tr style=\"text-align: right;\">\n",
       "      <th></th>\n",
       "      <th>Date</th>\n",
       "      <th>High</th>\n",
       "      <th>Low</th>\n",
       "      <th>Close</th>\n",
       "      <th>SMA50</th>\n",
       "      <th>SMA150</th>\n",
       "    </tr>\n",
       "  </thead>\n",
       "  <tbody>\n",
       "    <tr>\n",
       "      <th>5043</th>\n",
       "      <td>2020-04-21</td>\n",
       "      <td>9044.40</td>\n",
       "      <td>8909.40</td>\n",
       "      <td>8981.45</td>\n",
       "      <td>10213.69</td>\n",
       "      <td>11291.23</td>\n",
       "    </tr>\n",
       "    <tr>\n",
       "      <th>5044</th>\n",
       "      <td>2020-04-22</td>\n",
       "      <td>9209.75</td>\n",
       "      <td>8946.25</td>\n",
       "      <td>9187.30</td>\n",
       "      <td>10157.85</td>\n",
       "      <td>11279.12</td>\n",
       "    </tr>\n",
       "    <tr>\n",
       "      <th>5045</th>\n",
       "      <td>2020-04-23</td>\n",
       "      <td>9343.60</td>\n",
       "      <td>9170.15</td>\n",
       "      <td>9313.90</td>\n",
       "      <td>10102.34</td>\n",
       "      <td>11267.64</td>\n",
       "    </tr>\n",
       "  </tbody>\n",
       "</table>\n",
       "</div>"
      ],
      "text/plain": [
       "           Date     High      Low    Close     SMA50    SMA150\n",
       "5043 2020-04-21  9044.40  8909.40  8981.45  10213.69  11291.23\n",
       "5044 2020-04-22  9209.75  8946.25  9187.30  10157.85  11279.12\n",
       "5045 2020-04-23  9343.60  9170.15  9313.90  10102.34  11267.64"
      ]
     },
     "execution_count": 39,
     "metadata": {},
     "output_type": "execute_result"
    }
   ],
   "source": [
    "df1.tail(3)"
   ]
  },
  {
   "cell_type": "code",
   "execution_count": 40,
   "metadata": {},
   "outputs": [],
   "source": [
    "df1['SMA50'] = df1['SMA50'].shift(1)\n",
    "df1['SMA150'] = df1['SMA150'].shift(1)"
   ]
  },
  {
   "cell_type": "code",
   "execution_count": 41,
   "metadata": {},
   "outputs": [
    {
     "data": {
      "text/html": [
       "<div>\n",
       "<style scoped>\n",
       "    .dataframe tbody tr th:only-of-type {\n",
       "        vertical-align: middle;\n",
       "    }\n",
       "\n",
       "    .dataframe tbody tr th {\n",
       "        vertical-align: top;\n",
       "    }\n",
       "\n",
       "    .dataframe thead th {\n",
       "        text-align: right;\n",
       "    }\n",
       "</style>\n",
       "<table border=\"1\" class=\"dataframe\">\n",
       "  <thead>\n",
       "    <tr style=\"text-align: right;\">\n",
       "      <th></th>\n",
       "      <th>Date</th>\n",
       "      <th>High</th>\n",
       "      <th>Low</th>\n",
       "      <th>Close</th>\n",
       "      <th>SMA50</th>\n",
       "      <th>SMA150</th>\n",
       "    </tr>\n",
       "  </thead>\n",
       "  <tbody>\n",
       "    <tr>\n",
       "      <th>5043</th>\n",
       "      <td>2020-04-21</td>\n",
       "      <td>9044.40</td>\n",
       "      <td>8909.40</td>\n",
       "      <td>8981.45</td>\n",
       "      <td>10268.22</td>\n",
       "      <td>11304.32</td>\n",
       "    </tr>\n",
       "    <tr>\n",
       "      <th>5044</th>\n",
       "      <td>2020-04-22</td>\n",
       "      <td>9209.75</td>\n",
       "      <td>8946.25</td>\n",
       "      <td>9187.30</td>\n",
       "      <td>10213.69</td>\n",
       "      <td>11291.23</td>\n",
       "    </tr>\n",
       "    <tr>\n",
       "      <th>5045</th>\n",
       "      <td>2020-04-23</td>\n",
       "      <td>9343.60</td>\n",
       "      <td>9170.15</td>\n",
       "      <td>9313.90</td>\n",
       "      <td>10157.85</td>\n",
       "      <td>11279.12</td>\n",
       "    </tr>\n",
       "  </tbody>\n",
       "</table>\n",
       "</div>"
      ],
      "text/plain": [
       "           Date     High      Low    Close     SMA50    SMA150\n",
       "5043 2020-04-21  9044.40  8909.40  8981.45  10268.22  11304.32\n",
       "5044 2020-04-22  9209.75  8946.25  9187.30  10213.69  11291.23\n",
       "5045 2020-04-23  9343.60  9170.15  9313.90  10157.85  11279.12"
      ]
     },
     "execution_count": 41,
     "metadata": {},
     "output_type": "execute_result"
    }
   ],
   "source": [
    "df1.tail(3)"
   ]
  },
  {
   "cell_type": "code",
   "execution_count": null,
   "metadata": {},
   "outputs": [],
   "source": [
    "#df1.to_excel(r'C:\\Users\\ABC\\Downloads\\test.xlsx')"
   ]
  },
  {
   "cell_type": "code",
   "execution_count": 42,
   "metadata": {},
   "outputs": [],
   "source": [
    "df1.set_index('Date', inplace=True)"
   ]
  },
  {
   "cell_type": "code",
   "execution_count": 43,
   "metadata": {},
   "outputs": [
    {
     "data": {
      "text/plain": [
       "<matplotlib.axes._subplots.AxesSubplot at 0x11d50658>"
      ]
     },
     "execution_count": 43,
     "metadata": {},
     "output_type": "execute_result"
    },
    {
     "data": {
      "image/png": "[encoded data removed]",
      "text/plain": [
       "<Figure size 1440x576 with 1 Axes>"
      ]
     },
     "metadata": {
      "needs_background": "light"
     },
     "output_type": "display_data"
    }
   ],
   "source": [
    "df1[['Close','SMA50','SMA150']].plot(figsize = (20,8))"
   ]
  },
  {
   "cell_type": "code",
   "execution_count": 44,
   "metadata": {},
   "outputs": [],
   "source": [
    "#fig = go.Figure()"
   ]
  },
  {
   "cell_type": "code",
   "execution_count": 15,
   "metadata": {},
   "outputs": [],
   "source": [
    "# fig.add_trace(go.Scatter(x = df1.index, y = df1['Close'], mode = 'lines', name = 'Close'))\n",
    "# fig.add_trace(go.Scatter(x = df1.index, y = df1['SMA50'], mode = 'lines', name = 'SMA 50'))\n",
    "# fig.add_trace(go.Scatter(x = df1.index, y = df1['SMA150'], mode = 'lines', name = 'SMA 150'))\n",
    "# fig.show()"
   ]
  },
  {
   "cell_type": "code",
   "execution_count": 45,
   "metadata": {},
   "outputs": [
    {
     "data": {
      "text/html": [
       "<div>\n",
       "<style scoped>\n",
       "    .dataframe tbody tr th:only-of-type {\n",
       "        vertical-align: middle;\n",
       "    }\n",
       "\n",
       "    .dataframe tbody tr th {\n",
       "        vertical-align: top;\n",
       "    }\n",
       "\n",
       "    .dataframe thead th {\n",
       "        text-align: right;\n",
       "    }\n",
       "</style>\n",
       "<table border=\"1\" class=\"dataframe\">\n",
       "  <thead>\n",
       "    <tr style=\"text-align: right;\">\n",
       "      <th></th>\n",
       "      <th>High</th>\n",
       "      <th>Low</th>\n",
       "      <th>Close</th>\n",
       "      <th>SMA50</th>\n",
       "      <th>SMA150</th>\n",
       "    </tr>\n",
       "    <tr>\n",
       "      <th>Date</th>\n",
       "      <th></th>\n",
       "      <th></th>\n",
       "      <th></th>\n",
       "      <th></th>\n",
       "      <th></th>\n",
       "    </tr>\n",
       "  </thead>\n",
       "  <tbody>\n",
       "    <tr>\n",
       "      <th>2020-04-17</th>\n",
       "      <td>9324.00</td>\n",
       "      <td>9091.35</td>\n",
       "      <td>9266.75</td>\n",
       "      <td>10370.13</td>\n",
       "      <td>11325.42</td>\n",
       "    </tr>\n",
       "    <tr>\n",
       "      <th>2020-04-20</th>\n",
       "      <td>9390.85</td>\n",
       "      <td>9230.80</td>\n",
       "      <td>9261.85</td>\n",
       "      <td>10316.22</td>\n",
       "      <td>11314.90</td>\n",
       "    </tr>\n",
       "    <tr>\n",
       "      <th>2020-04-21</th>\n",
       "      <td>9044.40</td>\n",
       "      <td>8909.40</td>\n",
       "      <td>8981.45</td>\n",
       "      <td>10268.22</td>\n",
       "      <td>11304.32</td>\n",
       "    </tr>\n",
       "    <tr>\n",
       "      <th>2020-04-22</th>\n",
       "      <td>9209.75</td>\n",
       "      <td>8946.25</td>\n",
       "      <td>9187.30</td>\n",
       "      <td>10213.69</td>\n",
       "      <td>11291.23</td>\n",
       "    </tr>\n",
       "    <tr>\n",
       "      <th>2020-04-23</th>\n",
       "      <td>9343.60</td>\n",
       "      <td>9170.15</td>\n",
       "      <td>9313.90</td>\n",
       "      <td>10157.85</td>\n",
       "      <td>11279.12</td>\n",
       "    </tr>\n",
       "  </tbody>\n",
       "</table>\n",
       "</div>"
      ],
      "text/plain": [
       "               High      Low    Close     SMA50    SMA150\n",
       "Date                                                     \n",
       "2020-04-17  9324.00  9091.35  9266.75  10370.13  11325.42\n",
       "2020-04-20  9390.85  9230.80  9261.85  10316.22  11314.90\n",
       "2020-04-21  9044.40  8909.40  8981.45  10268.22  11304.32\n",
       "2020-04-22  9209.75  8946.25  9187.30  10213.69  11291.23\n",
       "2020-04-23  9343.60  9170.15  9313.90  10157.85  11279.12"
      ]
     },
     "execution_count": 45,
     "metadata": {},
     "output_type": "execute_result"
    }
   ],
   "source": [
    "df1.tail(5)"
   ]
  },
  {
   "cell_type": "code",
   "execution_count": 46,
   "metadata": {},
   "outputs": [],
   "source": [
    "df1['Signal'] = np.where((df1.SMA50 > df1.SMA150)&(df1.SMA50.shift(1) < df1.SMA150.shift(1)),1,0)"
   ]
  },
  {
   "cell_type": "code",
   "execution_count": 47,
   "metadata": {},
   "outputs": [],
   "source": [
    "df1['Signal'] = np.where((df1.SMA50 < df1.SMA150)&(df1.SMA50.shift(1) > df1.SMA150.shift(1)),-1,df1['Signal'])"
   ]
  },
  {
   "cell_type": "code",
   "execution_count": null,
   "metadata": {},
   "outputs": [],
   "source": [
    "#df1.to_excel(r'C:\\Users\\ABC\\Downloads\\test.xlsx')"
   ]
  },
  {
   "cell_type": "code",
   "execution_count": 48,
   "metadata": {},
   "outputs": [],
   "source": [
    "df1['Signal'].replace(to_replace=0, method='ffill', inplace=True)"
   ]
  },
  {
   "cell_type": "code",
   "execution_count": 49,
   "metadata": {},
   "outputs": [
    {
     "data": {
      "text/html": [
       "<div>\n",
       "<style scoped>\n",
       "    .dataframe tbody tr th:only-of-type {\n",
       "        vertical-align: middle;\n",
       "    }\n",
       "\n",
       "    .dataframe tbody tr th {\n",
       "        vertical-align: top;\n",
       "    }\n",
       "\n",
       "    .dataframe thead th {\n",
       "        text-align: right;\n",
       "    }\n",
       "</style>\n",
       "<table border=\"1\" class=\"dataframe\">\n",
       "  <thead>\n",
       "    <tr style=\"text-align: right;\">\n",
       "      <th></th>\n",
       "      <th>High</th>\n",
       "      <th>Low</th>\n",
       "      <th>Close</th>\n",
       "      <th>SMA50</th>\n",
       "      <th>SMA150</th>\n",
       "      <th>Signal</th>\n",
       "    </tr>\n",
       "    <tr>\n",
       "      <th>Date</th>\n",
       "      <th></th>\n",
       "      <th></th>\n",
       "      <th></th>\n",
       "      <th></th>\n",
       "      <th></th>\n",
       "      <th></th>\n",
       "    </tr>\n",
       "  </thead>\n",
       "  <tbody>\n",
       "    <tr>\n",
       "      <th>2020-04-21</th>\n",
       "      <td>9044.40</td>\n",
       "      <td>8909.40</td>\n",
       "      <td>8981.45</td>\n",
       "      <td>10268.22</td>\n",
       "      <td>11304.32</td>\n",
       "      <td>-1</td>\n",
       "    </tr>\n",
       "    <tr>\n",
       "      <th>2020-04-22</th>\n",
       "      <td>9209.75</td>\n",
       "      <td>8946.25</td>\n",
       "      <td>9187.30</td>\n",
       "      <td>10213.69</td>\n",
       "      <td>11291.23</td>\n",
       "      <td>-1</td>\n",
       "    </tr>\n",
       "    <tr>\n",
       "      <th>2020-04-23</th>\n",
       "      <td>9343.60</td>\n",
       "      <td>9170.15</td>\n",
       "      <td>9313.90</td>\n",
       "      <td>10157.85</td>\n",
       "      <td>11279.12</td>\n",
       "      <td>-1</td>\n",
       "    </tr>\n",
       "  </tbody>\n",
       "</table>\n",
       "</div>"
      ],
      "text/plain": [
       "               High      Low    Close     SMA50    SMA150  Signal\n",
       "Date                                                             \n",
       "2020-04-21  9044.40  8909.40  8981.45  10268.22  11304.32      -1\n",
       "2020-04-22  9209.75  8946.25  9187.30  10213.69  11291.23      -1\n",
       "2020-04-23  9343.60  9170.15  9313.90  10157.85  11279.12      -1"
      ]
     },
     "execution_count": 49,
     "metadata": {},
     "output_type": "execute_result"
    }
   ],
   "source": [
    "df1.tail(3)"
   ]
  },
  {
   "cell_type": "code",
   "execution_count": 50,
   "metadata": {},
   "outputs": [],
   "source": [
    "df1['Daily_Return'] = df1['Close'] - df1['Close'].shift(1)"
   ]
  },
  {
   "cell_type": "code",
   "execution_count": 51,
   "metadata": {},
   "outputs": [
    {
     "data": {
      "text/html": [
       "<div>\n",
       "<style scoped>\n",
       "    .dataframe tbody tr th:only-of-type {\n",
       "        vertical-align: middle;\n",
       "    }\n",
       "\n",
       "    .dataframe tbody tr th {\n",
       "        vertical-align: top;\n",
       "    }\n",
       "\n",
       "    .dataframe thead th {\n",
       "        text-align: right;\n",
       "    }\n",
       "</style>\n",
       "<table border=\"1\" class=\"dataframe\">\n",
       "  <thead>\n",
       "    <tr style=\"text-align: right;\">\n",
       "      <th></th>\n",
       "      <th>High</th>\n",
       "      <th>Low</th>\n",
       "      <th>Close</th>\n",
       "      <th>SMA50</th>\n",
       "      <th>SMA150</th>\n",
       "      <th>Signal</th>\n",
       "      <th>Daily_Return</th>\n",
       "    </tr>\n",
       "    <tr>\n",
       "      <th>Date</th>\n",
       "      <th></th>\n",
       "      <th></th>\n",
       "      <th></th>\n",
       "      <th></th>\n",
       "      <th></th>\n",
       "      <th></th>\n",
       "      <th></th>\n",
       "    </tr>\n",
       "  </thead>\n",
       "  <tbody>\n",
       "    <tr>\n",
       "      <th>2000-01-03</th>\n",
       "      <td>1592.90</td>\n",
       "      <td>1482.15</td>\n",
       "      <td>1592.20</td>\n",
       "      <td>NaN</td>\n",
       "      <td>NaN</td>\n",
       "      <td>0</td>\n",
       "      <td>NaN</td>\n",
       "    </tr>\n",
       "    <tr>\n",
       "      <th>2000-01-04</th>\n",
       "      <td>1641.95</td>\n",
       "      <td>1594.40</td>\n",
       "      <td>1638.70</td>\n",
       "      <td>NaN</td>\n",
       "      <td>NaN</td>\n",
       "      <td>0</td>\n",
       "      <td>46.50</td>\n",
       "    </tr>\n",
       "    <tr>\n",
       "      <th>2000-01-05</th>\n",
       "      <td>1635.50</td>\n",
       "      <td>1555.05</td>\n",
       "      <td>1595.80</td>\n",
       "      <td>NaN</td>\n",
       "      <td>NaN</td>\n",
       "      <td>0</td>\n",
       "      <td>-42.90</td>\n",
       "    </tr>\n",
       "    <tr>\n",
       "      <th>2000-01-06</th>\n",
       "      <td>1639.00</td>\n",
       "      <td>1595.80</td>\n",
       "      <td>1617.60</td>\n",
       "      <td>NaN</td>\n",
       "      <td>NaN</td>\n",
       "      <td>0</td>\n",
       "      <td>21.80</td>\n",
       "    </tr>\n",
       "    <tr>\n",
       "      <th>2000-01-07</th>\n",
       "      <td>1628.25</td>\n",
       "      <td>1597.20</td>\n",
       "      <td>1613.30</td>\n",
       "      <td>NaN</td>\n",
       "      <td>NaN</td>\n",
       "      <td>0</td>\n",
       "      <td>-4.30</td>\n",
       "    </tr>\n",
       "    <tr>\n",
       "      <th>...</th>\n",
       "      <td>...</td>\n",
       "      <td>...</td>\n",
       "      <td>...</td>\n",
       "      <td>...</td>\n",
       "      <td>...</td>\n",
       "      <td>...</td>\n",
       "      <td>...</td>\n",
       "    </tr>\n",
       "    <tr>\n",
       "      <th>2020-04-17</th>\n",
       "      <td>9324.00</td>\n",
       "      <td>9091.35</td>\n",
       "      <td>9266.75</td>\n",
       "      <td>10370.13</td>\n",
       "      <td>11325.42</td>\n",
       "      <td>-1</td>\n",
       "      <td>273.95</td>\n",
       "    </tr>\n",
       "    <tr>\n",
       "      <th>2020-04-20</th>\n",
       "      <td>9390.85</td>\n",
       "      <td>9230.80</td>\n",
       "      <td>9261.85</td>\n",
       "      <td>10316.22</td>\n",
       "      <td>11314.90</td>\n",
       "      <td>-1</td>\n",
       "      <td>-4.90</td>\n",
       "    </tr>\n",
       "    <tr>\n",
       "      <th>2020-04-21</th>\n",
       "      <td>9044.40</td>\n",
       "      <td>8909.40</td>\n",
       "      <td>8981.45</td>\n",
       "      <td>10268.22</td>\n",
       "      <td>11304.32</td>\n",
       "      <td>-1</td>\n",
       "      <td>-280.40</td>\n",
       "    </tr>\n",
       "    <tr>\n",
       "      <th>2020-04-22</th>\n",
       "      <td>9209.75</td>\n",
       "      <td>8946.25</td>\n",
       "      <td>9187.30</td>\n",
       "      <td>10213.69</td>\n",
       "      <td>11291.23</td>\n",
       "      <td>-1</td>\n",
       "      <td>205.85</td>\n",
       "    </tr>\n",
       "    <tr>\n",
       "      <th>2020-04-23</th>\n",
       "      <td>9343.60</td>\n",
       "      <td>9170.15</td>\n",
       "      <td>9313.90</td>\n",
       "      <td>10157.85</td>\n",
       "      <td>11279.12</td>\n",
       "      <td>-1</td>\n",
       "      <td>126.60</td>\n",
       "    </tr>\n",
       "  </tbody>\n",
       "</table>\n",
       "<p>5046 rows × 7 columns</p>\n",
       "</div>"
      ],
      "text/plain": [
       "               High      Low    Close     SMA50    SMA150  Signal  \\\n",
       "Date                                                                \n",
       "2000-01-03  1592.90  1482.15  1592.20       NaN       NaN       0   \n",
       "2000-01-04  1641.95  1594.40  1638.70       NaN       NaN       0   \n",
       "2000-01-05  1635.50  1555.05  1595.80       NaN       NaN       0   \n",
       "2000-01-06  1639.00  1595.80  1617.60       NaN       NaN       0   \n",
       "2000-01-07  1628.25  1597.20  1613.30       NaN       NaN       0   \n",
       "...             ...      ...      ...       ...       ...     ...   \n",
       "2020-04-17  9324.00  9091.35  9266.75  10370.13  11325.42      -1   \n",
       "2020-04-20  9390.85  9230.80  9261.85  10316.22  11314.90      -1   \n",
       "2020-04-21  9044.40  8909.40  8981.45  10268.22  11304.32      -1   \n",
       "2020-04-22  9209.75  8946.25  9187.30  10213.69  11291.23      -1   \n",
       "2020-04-23  9343.60  9170.15  9313.90  10157.85  11279.12      -1   \n",
       "\n",
       "            Daily_Return  \n",
       "Date                      \n",
       "2000-01-03           NaN  \n",
       "2000-01-04         46.50  \n",
       "2000-01-05        -42.90  \n",
       "2000-01-06         21.80  \n",
       "2000-01-07         -4.30  \n",
       "...                  ...  \n",
       "2020-04-17        273.95  \n",
       "2020-04-20         -4.90  \n",
       "2020-04-21       -280.40  \n",
       "2020-04-22        205.85  \n",
       "2020-04-23        126.60  \n",
       "\n",
       "[5046 rows x 7 columns]"
      ]
     },
     "execution_count": 51,
     "metadata": {},
     "output_type": "execute_result"
    }
   ],
   "source": [
    "df1"
   ]
  },
  {
   "cell_type": "code",
   "execution_count": 52,
   "metadata": {},
   "outputs": [],
   "source": [
    "df1['Daily_Return'] = df1['Daily_Return'] * df1['Signal'].shift(1)"
   ]
  },
  {
   "cell_type": "code",
   "execution_count": 53,
   "metadata": {},
   "outputs": [
    {
     "data": {
      "text/html": [
       "<div>\n",
       "<style scoped>\n",
       "    .dataframe tbody tr th:only-of-type {\n",
       "        vertical-align: middle;\n",
       "    }\n",
       "\n",
       "    .dataframe tbody tr th {\n",
       "        vertical-align: top;\n",
       "    }\n",
       "\n",
       "    .dataframe thead th {\n",
       "        text-align: right;\n",
       "    }\n",
       "</style>\n",
       "<table border=\"1\" class=\"dataframe\">\n",
       "  <thead>\n",
       "    <tr style=\"text-align: right;\">\n",
       "      <th></th>\n",
       "      <th>High</th>\n",
       "      <th>Low</th>\n",
       "      <th>Close</th>\n",
       "      <th>SMA50</th>\n",
       "      <th>SMA150</th>\n",
       "      <th>Signal</th>\n",
       "      <th>Daily_Return</th>\n",
       "    </tr>\n",
       "    <tr>\n",
       "      <th>Date</th>\n",
       "      <th></th>\n",
       "      <th></th>\n",
       "      <th></th>\n",
       "      <th></th>\n",
       "      <th></th>\n",
       "      <th></th>\n",
       "      <th></th>\n",
       "    </tr>\n",
       "  </thead>\n",
       "  <tbody>\n",
       "    <tr>\n",
       "      <th>2020-04-17</th>\n",
       "      <td>9324.00</td>\n",
       "      <td>9091.35</td>\n",
       "      <td>9266.75</td>\n",
       "      <td>10370.13</td>\n",
       "      <td>11325.42</td>\n",
       "      <td>-1</td>\n",
       "      <td>-273.95</td>\n",
       "    </tr>\n",
       "    <tr>\n",
       "      <th>2020-04-20</th>\n",
       "      <td>9390.85</td>\n",
       "      <td>9230.80</td>\n",
       "      <td>9261.85</td>\n",
       "      <td>10316.22</td>\n",
       "      <td>11314.90</td>\n",
       "      <td>-1</td>\n",
       "      <td>4.90</td>\n",
       "    </tr>\n",
       "    <tr>\n",
       "      <th>2020-04-21</th>\n",
       "      <td>9044.40</td>\n",
       "      <td>8909.40</td>\n",
       "      <td>8981.45</td>\n",
       "      <td>10268.22</td>\n",
       "      <td>11304.32</td>\n",
       "      <td>-1</td>\n",
       "      <td>280.40</td>\n",
       "    </tr>\n",
       "    <tr>\n",
       "      <th>2020-04-22</th>\n",
       "      <td>9209.75</td>\n",
       "      <td>8946.25</td>\n",
       "      <td>9187.30</td>\n",
       "      <td>10213.69</td>\n",
       "      <td>11291.23</td>\n",
       "      <td>-1</td>\n",
       "      <td>-205.85</td>\n",
       "    </tr>\n",
       "    <tr>\n",
       "      <th>2020-04-23</th>\n",
       "      <td>9343.60</td>\n",
       "      <td>9170.15</td>\n",
       "      <td>9313.90</td>\n",
       "      <td>10157.85</td>\n",
       "      <td>11279.12</td>\n",
       "      <td>-1</td>\n",
       "      <td>-126.60</td>\n",
       "    </tr>\n",
       "  </tbody>\n",
       "</table>\n",
       "</div>"
      ],
      "text/plain": [
       "               High      Low    Close     SMA50    SMA150  Signal  \\\n",
       "Date                                                                \n",
       "2020-04-17  9324.00  9091.35  9266.75  10370.13  11325.42      -1   \n",
       "2020-04-20  9390.85  9230.80  9261.85  10316.22  11314.90      -1   \n",
       "2020-04-21  9044.40  8909.40  8981.45  10268.22  11304.32      -1   \n",
       "2020-04-22  9209.75  8946.25  9187.30  10213.69  11291.23      -1   \n",
       "2020-04-23  9343.60  9170.15  9313.90  10157.85  11279.12      -1   \n",
       "\n",
       "            Daily_Return  \n",
       "Date                      \n",
       "2020-04-17       -273.95  \n",
       "2020-04-20          4.90  \n",
       "2020-04-21        280.40  \n",
       "2020-04-22       -205.85  \n",
       "2020-04-23       -126.60  "
      ]
     },
     "execution_count": 53,
     "metadata": {},
     "output_type": "execute_result"
    }
   ],
   "source": [
    "df1.tail(5)"
   ]
  },
  {
   "cell_type": "code",
   "execution_count": 54,
   "metadata": {},
   "outputs": [],
   "source": [
    "df1['Cum_Return'] = df1['Daily_Return'].cumsum()"
   ]
  },
  {
   "cell_type": "code",
   "execution_count": 59,
   "metadata": {},
   "outputs": [],
   "source": [
    "#df1.to_excel(r'C:\\Users\\ABC\\Downloads\\test1.xlsx')"
   ]
  },
  {
   "cell_type": "code",
   "execution_count": 60,
   "metadata": {},
   "outputs": [
    {
     "data": {
      "text/html": [
       "<div>\n",
       "<style scoped>\n",
       "    .dataframe tbody tr th:only-of-type {\n",
       "        vertical-align: middle;\n",
       "    }\n",
       "\n",
       "    .dataframe tbody tr th {\n",
       "        vertical-align: top;\n",
       "    }\n",
       "\n",
       "    .dataframe thead th {\n",
       "        text-align: right;\n",
       "    }\n",
       "</style>\n",
       "<table border=\"1\" class=\"dataframe\">\n",
       "  <thead>\n",
       "    <tr style=\"text-align: right;\">\n",
       "      <th></th>\n",
       "      <th>High</th>\n",
       "      <th>Low</th>\n",
       "      <th>Close</th>\n",
       "      <th>SMA50</th>\n",
       "      <th>SMA150</th>\n",
       "      <th>Signal</th>\n",
       "      <th>Daily_Return</th>\n",
       "      <th>Cum_Return</th>\n",
       "    </tr>\n",
       "    <tr>\n",
       "      <th>Date</th>\n",
       "      <th></th>\n",
       "      <th></th>\n",
       "      <th></th>\n",
       "      <th></th>\n",
       "      <th></th>\n",
       "      <th></th>\n",
       "      <th></th>\n",
       "      <th></th>\n",
       "    </tr>\n",
       "  </thead>\n",
       "  <tbody>\n",
       "    <tr>\n",
       "      <th>2020-04-17</th>\n",
       "      <td>9324.00</td>\n",
       "      <td>9091.35</td>\n",
       "      <td>9266.75</td>\n",
       "      <td>10370.13</td>\n",
       "      <td>11325.42</td>\n",
       "      <td>-1</td>\n",
       "      <td>-273.95</td>\n",
       "      <td>542.55</td>\n",
       "    </tr>\n",
       "    <tr>\n",
       "      <th>2020-04-20</th>\n",
       "      <td>9390.85</td>\n",
       "      <td>9230.80</td>\n",
       "      <td>9261.85</td>\n",
       "      <td>10316.22</td>\n",
       "      <td>11314.90</td>\n",
       "      <td>-1</td>\n",
       "      <td>4.90</td>\n",
       "      <td>547.45</td>\n",
       "    </tr>\n",
       "    <tr>\n",
       "      <th>2020-04-21</th>\n",
       "      <td>9044.40</td>\n",
       "      <td>8909.40</td>\n",
       "      <td>8981.45</td>\n",
       "      <td>10268.22</td>\n",
       "      <td>11304.32</td>\n",
       "      <td>-1</td>\n",
       "      <td>280.40</td>\n",
       "      <td>827.85</td>\n",
       "    </tr>\n",
       "    <tr>\n",
       "      <th>2020-04-22</th>\n",
       "      <td>9209.75</td>\n",
       "      <td>8946.25</td>\n",
       "      <td>9187.30</td>\n",
       "      <td>10213.69</td>\n",
       "      <td>11291.23</td>\n",
       "      <td>-1</td>\n",
       "      <td>-205.85</td>\n",
       "      <td>622.00</td>\n",
       "    </tr>\n",
       "    <tr>\n",
       "      <th>2020-04-23</th>\n",
       "      <td>9343.60</td>\n",
       "      <td>9170.15</td>\n",
       "      <td>9313.90</td>\n",
       "      <td>10157.85</td>\n",
       "      <td>11279.12</td>\n",
       "      <td>-1</td>\n",
       "      <td>-126.60</td>\n",
       "      <td>495.40</td>\n",
       "    </tr>\n",
       "  </tbody>\n",
       "</table>\n",
       "</div>"
      ],
      "text/plain": [
       "               High      Low    Close     SMA50    SMA150  Signal  \\\n",
       "Date                                                                \n",
       "2020-04-17  9324.00  9091.35  9266.75  10370.13  11325.42      -1   \n",
       "2020-04-20  9390.85  9230.80  9261.85  10316.22  11314.90      -1   \n",
       "2020-04-21  9044.40  8909.40  8981.45  10268.22  11304.32      -1   \n",
       "2020-04-22  9209.75  8946.25  9187.30  10213.69  11291.23      -1   \n",
       "2020-04-23  9343.60  9170.15  9313.90  10157.85  11279.12      -1   \n",
       "\n",
       "            Daily_Return  Cum_Return  \n",
       "Date                                  \n",
       "2020-04-17       -273.95      542.55  \n",
       "2020-04-20          4.90      547.45  \n",
       "2020-04-21        280.40      827.85  \n",
       "2020-04-22       -205.85      622.00  \n",
       "2020-04-23       -126.60      495.40  "
      ]
     },
     "execution_count": 60,
     "metadata": {},
     "output_type": "execute_result"
    }
   ],
   "source": [
    "df1.tail()"
   ]
  },
  {
   "cell_type": "code",
   "execution_count": 62,
   "metadata": {},
   "outputs": [
    {
     "data": {
      "text/plain": [
       "<matplotlib.axes._subplots.AxesSubplot at 0x1131d370>"
      ]
     },
     "execution_count": 62,
     "metadata": {},
     "output_type": "execute_result"
    },
    {
     "data": {
      "image/png": "[encoded data removed]",
      "text/plain": [
       "<Figure size 1152x432 with 1 Axes>"
      ]
     },
     "metadata": {
      "needs_background": "light"
     },
     "output_type": "display_data"
    }
   ],
   "source": [
    "df1['Cum_Return'].plot(figsize = (16,6))"
   ]
  },
  {
   "cell_type": "code",
   "execution_count": null,
   "metadata": {},
   "outputs": [],
   "source": []
  },
  {
   "cell_type": "code",
   "execution_count": null,
   "metadata": {},
   "outputs": [],
   "source": []
  },
  {
   "cell_type": "code",
   "execution_count": null,
   "metadata": {},
   "outputs": [],
   "source": []
  }
 ],
 "metadata": {
  "kernelspec": {
   "display_name": "Python 3",
   "language": "python",
   "name": "python3"
  },
  "language_info": {
   "codemirror_mode": {
    "name": "ipython",
    "version": 3
   },
   "file_extension": ".py",
   "mimetype": "text/x-python",
   "name": "python",
   "nbconvert_exporter": "python",
   "pygments_lexer": "ipython3",
   "version": "3.8.1"
  }
 },
 "nbformat": 4,
 "nbformat_minor": 4
}
