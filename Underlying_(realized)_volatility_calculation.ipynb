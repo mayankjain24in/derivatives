{
 "cells": [
  {
   "cell_type": "code",
   "execution_count": 223,
   "metadata": {},
   "outputs": [],
   "source": [
    "import pandas as pd\n",
    "import numpy as np"
   ]
  },
  {
   "cell_type": "code",
   "execution_count": 224,
   "metadata": {},
   "outputs": [],
   "source": [
    "df = pd.read_excel(r\"D:\\Options\\ICICIBANK\\FUT and SPOT 1 min Data\\icicibank spot  1 min.xlsx\", index_col=0)"
   ]
  },
  {
   "cell_type": "code",
   "execution_count": 225,
   "metadata": {},
   "outputs": [],
   "source": [
    "df['Return %'] = ((df['Close'] / df['Close'].shift(1))-1)*100"
   ]
  },
  {
   "cell_type": "code",
   "execution_count": 229,
   "metadata": {},
   "outputs": [
    {
     "data": {
      "text/html": [
       "<div>\n",
       "<style scoped>\n",
       "    .dataframe tbody tr th:only-of-type {\n",
       "        vertical-align: middle;\n",
       "    }\n",
       "\n",
       "    .dataframe tbody tr th {\n",
       "        vertical-align: top;\n",
       "    }\n",
       "\n",
       "    .dataframe thead th {\n",
       "        text-align: right;\n",
       "    }\n",
       "</style>\n",
       "<table border=\"1\" class=\"dataframe\">\n",
       "  <thead>\n",
       "    <tr style=\"text-align: right;\">\n",
       "      <th></th>\n",
       "      <th>Date</th>\n",
       "      <th>Time</th>\n",
       "      <th>Open</th>\n",
       "      <th>Close</th>\n",
       "      <th>High</th>\n",
       "      <th>Low</th>\n",
       "      <th>Volume</th>\n",
       "      <th>Return %</th>\n",
       "    </tr>\n",
       "    <tr>\n",
       "      <th>Dates</th>\n",
       "      <th></th>\n",
       "      <th></th>\n",
       "      <th></th>\n",
       "      <th></th>\n",
       "      <th></th>\n",
       "      <th></th>\n",
       "      <th></th>\n",
       "      <th></th>\n",
       "    </tr>\n",
       "  </thead>\n",
       "  <tbody>\n",
       "    <tr>\n",
       "      <td>2019-05-06 09:16:00</td>\n",
       "      <td>2019-05-06</td>\n",
       "      <td>09:16:00</td>\n",
       "      <td>397.0</td>\n",
       "      <td>396.90</td>\n",
       "      <td>397.3</td>\n",
       "      <td>396.25</td>\n",
       "      <td>129386</td>\n",
       "      <td>-0.037779</td>\n",
       "    </tr>\n",
       "    <tr>\n",
       "      <td>2019-05-06 09:17:00</td>\n",
       "      <td>2019-05-06</td>\n",
       "      <td>09:17:00</td>\n",
       "      <td>396.9</td>\n",
       "      <td>398.40</td>\n",
       "      <td>398.4</td>\n",
       "      <td>396.85</td>\n",
       "      <td>122729</td>\n",
       "      <td>0.377929</td>\n",
       "    </tr>\n",
       "    <tr>\n",
       "      <td>2019-05-06 09:18:00</td>\n",
       "      <td>2019-05-06</td>\n",
       "      <td>09:18:00</td>\n",
       "      <td>398.3</td>\n",
       "      <td>397.45</td>\n",
       "      <td>398.3</td>\n",
       "      <td>397.10</td>\n",
       "      <td>99119</td>\n",
       "      <td>-0.238454</td>\n",
       "    </tr>\n",
       "  </tbody>\n",
       "</table>\n",
       "</div>"
      ],
      "text/plain": [
       "                          Date      Time   Open   Close   High     Low  \\\n",
       "Dates                                                                    \n",
       "2019-05-06 09:16:00 2019-05-06  09:16:00  397.0  396.90  397.3  396.25   \n",
       "2019-05-06 09:17:00 2019-05-06  09:17:00  396.9  398.40  398.4  396.85   \n",
       "2019-05-06 09:18:00 2019-05-06  09:18:00  398.3  397.45  398.3  397.10   \n",
       "\n",
       "                     Volume  Return %  \n",
       "Dates                                  \n",
       "2019-05-06 09:16:00  129386 -0.037779  \n",
       "2019-05-06 09:17:00  122729  0.377929  \n",
       "2019-05-06 09:18:00   99119 -0.238454  "
      ]
     },
     "execution_count": 229,
     "metadata": {},
     "output_type": "execute_result"
    }
   ],
   "source": [
    "df.head(3)"
   ]
  },
  {
   "cell_type": "code",
   "execution_count": 230,
   "metadata": {},
   "outputs": [],
   "source": [
    "df = df.dropna(axis=0)"
   ]
  },
  {
   "cell_type": "code",
   "execution_count": 231,
   "metadata": {},
   "outputs": [
    {
     "data": {
      "text/html": [
       "<div>\n",
       "<style scoped>\n",
       "    .dataframe tbody tr th:only-of-type {\n",
       "        vertical-align: middle;\n",
       "    }\n",
       "\n",
       "    .dataframe tbody tr th {\n",
       "        vertical-align: top;\n",
       "    }\n",
       "\n",
       "    .dataframe thead th {\n",
       "        text-align: right;\n",
       "    }\n",
       "</style>\n",
       "<table border=\"1\" class=\"dataframe\">\n",
       "  <thead>\n",
       "    <tr style=\"text-align: right;\">\n",
       "      <th></th>\n",
       "      <th>Date</th>\n",
       "      <th>Time</th>\n",
       "      <th>Open</th>\n",
       "      <th>Close</th>\n",
       "      <th>High</th>\n",
       "      <th>Low</th>\n",
       "      <th>Volume</th>\n",
       "      <th>Return %</th>\n",
       "    </tr>\n",
       "    <tr>\n",
       "      <th>Dates</th>\n",
       "      <th></th>\n",
       "      <th></th>\n",
       "      <th></th>\n",
       "      <th></th>\n",
       "      <th></th>\n",
       "      <th></th>\n",
       "      <th></th>\n",
       "      <th></th>\n",
       "    </tr>\n",
       "  </thead>\n",
       "  <tbody>\n",
       "    <tr>\n",
       "      <td>2019-05-06 09:16:00</td>\n",
       "      <td>2019-05-06</td>\n",
       "      <td>09:16:00</td>\n",
       "      <td>397.0</td>\n",
       "      <td>396.90</td>\n",
       "      <td>397.3</td>\n",
       "      <td>396.25</td>\n",
       "      <td>129386</td>\n",
       "      <td>-0.037779</td>\n",
       "    </tr>\n",
       "    <tr>\n",
       "      <td>2019-05-06 09:17:00</td>\n",
       "      <td>2019-05-06</td>\n",
       "      <td>09:17:00</td>\n",
       "      <td>396.9</td>\n",
       "      <td>398.40</td>\n",
       "      <td>398.4</td>\n",
       "      <td>396.85</td>\n",
       "      <td>122729</td>\n",
       "      <td>0.377929</td>\n",
       "    </tr>\n",
       "    <tr>\n",
       "      <td>2019-05-06 09:18:00</td>\n",
       "      <td>2019-05-06</td>\n",
       "      <td>09:18:00</td>\n",
       "      <td>398.3</td>\n",
       "      <td>397.45</td>\n",
       "      <td>398.3</td>\n",
       "      <td>397.10</td>\n",
       "      <td>99119</td>\n",
       "      <td>-0.238454</td>\n",
       "    </tr>\n",
       "  </tbody>\n",
       "</table>\n",
       "</div>"
      ],
      "text/plain": [
       "                          Date      Time   Open   Close   High     Low  \\\n",
       "Dates                                                                    \n",
       "2019-05-06 09:16:00 2019-05-06  09:16:00  397.0  396.90  397.3  396.25   \n",
       "2019-05-06 09:17:00 2019-05-06  09:17:00  396.9  398.40  398.4  396.85   \n",
       "2019-05-06 09:18:00 2019-05-06  09:18:00  398.3  397.45  398.3  397.10   \n",
       "\n",
       "                     Volume  Return %  \n",
       "Dates                                  \n",
       "2019-05-06 09:16:00  129386 -0.037779  \n",
       "2019-05-06 09:17:00  122729  0.377929  \n",
       "2019-05-06 09:18:00   99119 -0.238454  "
      ]
     },
     "execution_count": 231,
     "metadata": {},
     "output_type": "execute_result"
    }
   ],
   "source": [
    "df.head(3)"
   ]
  },
  {
   "cell_type": "code",
   "execution_count": 232,
   "metadata": {},
   "outputs": [],
   "source": [
    "unique_dates = pd.DataFrame(df['Date'].unique())"
   ]
  },
  {
   "cell_type": "code",
   "execution_count": 233,
   "metadata": {},
   "outputs": [
    {
     "data": {
      "text/html": [
       "<div>\n",
       "<style scoped>\n",
       "    .dataframe tbody tr th:only-of-type {\n",
       "        vertical-align: middle;\n",
       "    }\n",
       "\n",
       "    .dataframe tbody tr th {\n",
       "        vertical-align: top;\n",
       "    }\n",
       "\n",
       "    .dataframe thead th {\n",
       "        text-align: right;\n",
       "    }\n",
       "</style>\n",
       "<table border=\"1\" class=\"dataframe\">\n",
       "  <thead>\n",
       "    <tr style=\"text-align: right;\">\n",
       "      <th></th>\n",
       "      <th>0</th>\n",
       "    </tr>\n",
       "  </thead>\n",
       "  <tbody>\n",
       "    <tr>\n",
       "      <td>0</td>\n",
       "      <td>2019-05-06</td>\n",
       "    </tr>\n",
       "    <tr>\n",
       "      <td>1</td>\n",
       "      <td>2019-05-07</td>\n",
       "    </tr>\n",
       "    <tr>\n",
       "      <td>2</td>\n",
       "      <td>2019-05-08</td>\n",
       "    </tr>\n",
       "  </tbody>\n",
       "</table>\n",
       "</div>"
      ],
      "text/plain": [
       "           0\n",
       "0 2019-05-06\n",
       "1 2019-05-07\n",
       "2 2019-05-08"
      ]
     },
     "execution_count": 233,
     "metadata": {},
     "output_type": "execute_result"
    }
   ],
   "source": [
    "unique_dates.head(3)"
   ]
  },
  {
   "cell_type": "code",
   "execution_count": 234,
   "metadata": {},
   "outputs": [],
   "source": [
    "unique_dates = unique_dates + pd.Timedelta(hours=9, minutes = 15)"
   ]
  },
  {
   "cell_type": "code",
   "execution_count": 235,
   "metadata": {},
   "outputs": [
    {
     "data": {
      "text/html": [
       "<div>\n",
       "<style scoped>\n",
       "    .dataframe tbody tr th:only-of-type {\n",
       "        vertical-align: middle;\n",
       "    }\n",
       "\n",
       "    .dataframe tbody tr th {\n",
       "        vertical-align: top;\n",
       "    }\n",
       "\n",
       "    .dataframe thead th {\n",
       "        text-align: right;\n",
       "    }\n",
       "</style>\n",
       "<table border=\"1\" class=\"dataframe\">\n",
       "  <thead>\n",
       "    <tr style=\"text-align: right;\">\n",
       "      <th></th>\n",
       "      <th>0</th>\n",
       "    </tr>\n",
       "  </thead>\n",
       "  <tbody>\n",
       "    <tr>\n",
       "      <td>0</td>\n",
       "      <td>2019-05-06 09:15:00</td>\n",
       "    </tr>\n",
       "    <tr>\n",
       "      <td>1</td>\n",
       "      <td>2019-05-07 09:15:00</td>\n",
       "    </tr>\n",
       "    <tr>\n",
       "      <td>2</td>\n",
       "      <td>2019-05-08 09:15:00</td>\n",
       "    </tr>\n",
       "  </tbody>\n",
       "</table>\n",
       "</div>"
      ],
      "text/plain": [
       "                    0\n",
       "0 2019-05-06 09:15:00\n",
       "1 2019-05-07 09:15:00\n",
       "2 2019-05-08 09:15:00"
      ]
     },
     "execution_count": 235,
     "metadata": {},
     "output_type": "execute_result"
    }
   ],
   "source": [
    "unique_dates.head(3)"
   ]
  },
  {
   "cell_type": "code",
   "execution_count": 236,
   "metadata": {},
   "outputs": [],
   "source": [
    "x = len(unique_dates.iloc[:])\n",
    "IDV = []\n",
    "start_time_stamp = []\n",
    "end_time_stamp = []\n",
    "for i in range(0,x-1):\n",
    "    #print(i)\n",
    "    \n",
    "    start_time = unique_dates.iloc[i,0]\n",
    "    end_time = unique_dates.iloc[i+1,0]\n",
    "    start_time_stamp.append(start_time)\n",
    "    end_time_stamp.append(end_time)\n",
    "    \n",
    "    \n",
    "    mask = (df.index >= start_time) & (df.index <= end_time)\n",
    "    df_new = df.loc[mask]\n",
    "    idv_value = (df_new['Return %'].std())*np.sqrt(252*375)\n",
    "    #print(idv_value)\n",
    "    IDV.append(idv_value)\n",
    "df_idv = pd.DataFrame([start_time_stamp, end_time_stamp, IDV]).transpose()"
   ]
  },
  {
   "cell_type": "code",
   "execution_count": 237,
   "metadata": {},
   "outputs": [],
   "source": [
    "df_idv.rename(columns={0:\"From\", 1: \"To\", 2: \"IDV_Value\"}, inplace=True)"
   ]
  },
  {
   "cell_type": "code",
   "execution_count": 239,
   "metadata": {},
   "outputs": [
    {
     "data": {
      "text/html": [
       "<div>\n",
       "<style scoped>\n",
       "    .dataframe tbody tr th:only-of-type {\n",
       "        vertical-align: middle;\n",
       "    }\n",
       "\n",
       "    .dataframe tbody tr th {\n",
       "        vertical-align: top;\n",
       "    }\n",
       "\n",
       "    .dataframe thead th {\n",
       "        text-align: right;\n",
       "    }\n",
       "</style>\n",
       "<table border=\"1\" class=\"dataframe\">\n",
       "  <thead>\n",
       "    <tr style=\"text-align: right;\">\n",
       "      <th></th>\n",
       "      <th>From</th>\n",
       "      <th>To</th>\n",
       "      <th>IDV_Value</th>\n",
       "    </tr>\n",
       "  </thead>\n",
       "  <tbody>\n",
       "    <tr>\n",
       "      <td>0</td>\n",
       "      <td>2019-05-06 09:15:00</td>\n",
       "      <td>2019-05-07 09:15:00</td>\n",
       "      <td>30.6127</td>\n",
       "    </tr>\n",
       "    <tr>\n",
       "      <td>1</td>\n",
       "      <td>2019-05-07 09:15:00</td>\n",
       "      <td>2019-05-08 09:15:00</td>\n",
       "      <td>35.6209</td>\n",
       "    </tr>\n",
       "    <tr>\n",
       "      <td>2</td>\n",
       "      <td>2019-05-08 09:15:00</td>\n",
       "      <td>2019-05-09 09:15:00</td>\n",
       "      <td>29.4992</td>\n",
       "    </tr>\n",
       "  </tbody>\n",
       "</table>\n",
       "</div>"
      ],
      "text/plain": [
       "                 From                  To IDV_Value\n",
       "0 2019-05-06 09:15:00 2019-05-07 09:15:00   30.6127\n",
       "1 2019-05-07 09:15:00 2019-05-08 09:15:00   35.6209\n",
       "2 2019-05-08 09:15:00 2019-05-09 09:15:00   29.4992"
      ]
     },
     "execution_count": 239,
     "metadata": {},
     "output_type": "execute_result"
    }
   ],
   "source": [
    "df_idv.head(3)"
   ]
  },
  {
   "cell_type": "code",
   "execution_count": 241,
   "metadata": {},
   "outputs": [],
   "source": [
    "df_idv.to_excel(r\"C:\\Users\\Admin\\Downloads\\idv_values.xlsx\")"
   ]
  },
  {
   "cell_type": "code",
   "execution_count": null,
   "metadata": {},
   "outputs": [],
   "source": []
  }
 ],
 "metadata": {
  "kernelspec": {
   "display_name": "Python 3",
   "language": "python",
   "name": "python3"
  },
  "language_info": {
   "codemirror_mode": {
    "name": "ipython",
    "version": 3
   },
   "file_extension": ".py",
   "mimetype": "text/x-python",
   "name": "python",
   "nbconvert_exporter": "python",
   "pygments_lexer": "ipython3",
   "version": "3.7.0"
  }
 },
 "nbformat": 4,
 "nbformat_minor": 2
}
