{
 "cells": [
  {
   "cell_type": "code",
   "execution_count": 3,
   "metadata": {},
   "outputs": [
    {
     "name": "stdout",
     "output_type": "stream",
     "text": [
      "Collecting mibian\n",
      "  Downloading https://files.pythonhosted.org/packages/e5/74/25719d1f66b84561f209692947980660268cf601dc92766547b626eb03d5/mibian-0.1.3.tar.gz\n",
      "Building wheels for collected packages: mibian\n",
      "  Building wheel for mibian (setup.py): started\n",
      "  Building wheel for mibian (setup.py): finished with status 'done'\n",
      "  Created wheel for mibian: filename=mibian-0.1.3-cp37-none-any.whl size=4042 sha256=204703060b7a13512adbbb97184915480acf8cf878841b3f1fa16fbc5d516bbd\n",
      "  Stored in directory: C:\\Users\\ABC\\AppData\\Local\\pip\\Cache\\wheels\\34\\c7\\51\\22486b811445a01dab50193c9748e94242e55a4ce686a24240\n",
      "Successfully built mibian\n",
      "Installing collected packages: mibian\n",
      "Successfully installed mibian-0.1.3\n"
     ]
    }
   ],
   "source": [
    "!pip install mibian"
   ]
  },
  {
   "cell_type": "code",
   "execution_count": 1,
   "metadata": {},
   "outputs": [],
   "source": [
    "import mibian"
   ]
  },
  {
   "cell_type": "code",
   "execution_count": 12,
   "metadata": {},
   "outputs": [],
   "source": [
    "underlying_price = 8572\n",
    "call_strike = 8700\n",
    "put_strike = 8500\n",
    "call_price = 616.05\n",
    "put_price = 654.05\n",
    "interest_rate = 0\n",
    "call_implied_volatility = 67.50\n",
    "put_implied_volatility = 69.20\n",
    "days_to_expiry = 31"
   ]
  },
  {
   "cell_type": "code",
   "execution_count": 28,
   "metadata": {},
   "outputs": [
    {
     "name": "stdout",
     "output_type": "stream",
     "text": [
      "614.5589293176927\n",
      "650.1955248622926\n"
     ]
    }
   ],
   "source": [
    "# Calculating CALL PREMIUM\n",
    "c = mibian.BS([8572, 8700, 0, 31], volatility = 67.50)\n",
    "print(c.callPrice)\n",
    "\n",
    "# Calculating PUT PREMIUM\n",
    "p = mibian.BS([8572, 8500, 0, 31], volatility = 69.20)\n",
    "print(p.putPrice)"
   ]
  },
  {
   "cell_type": "code",
   "execution_count": 29,
   "metadata": {},
   "outputs": [
    {
     "name": "stdout",
     "output_type": "stream",
     "text": [
      "67.50011444091797\n",
      "69.1986083984375\n"
     ]
    }
   ],
   "source": [
    "# Calculating CALL Implied Volatility\n",
    "c = mibian.BS([8572, 8700, 0, 31], callPrice= 614.56)\n",
    "print(c.impliedVolatility)\n",
    "\n",
    "# Calculating PUT Implied Volatility\n",
    "p = mibian.BS([8572, 8500, 0, 31], putPrice= 650.20)\n",
    "print(p.impliedVolatility)"
   ]
  },
  {
   "cell_type": "code",
   "execution_count": 30,
   "metadata": {},
   "outputs": [
    {
     "name": "stdout",
     "output_type": "stream",
     "text": [
      "0.5093328435093478\n",
      "-0.4431474163117387\n"
     ]
    }
   ],
   "source": [
    "# Calculating CALL Delta\n",
    "c = mibian.BS([8572, 8700, 0, 31], volatility= 67.65)\n",
    "print(c.callDelta)\n",
    "\n",
    "# Calculating PUT Delta\n",
    "p = mibian.BS([8572, 8500, 0, 31], volatility= 69.59)\n",
    "print(p.putDelta)"
   ]
  },
  {
   "cell_type": "code",
   "execution_count": 32,
   "metadata": {},
   "outputs": [
    {
     "name": "stdout",
     "output_type": "stream",
     "text": [
      "-10.871360383629481\n",
      "-11.0723985990158\n"
     ]
    }
   ],
   "source": [
    "# Calculating CALL Theta\n",
    "c = mibian.BS([8572, 8700, 0, 31], volatility= 67.65)\n",
    "print(c.callTheta)\n",
    "\n",
    "# Calculating Put Theta\n",
    "p = mibian.BS([8572, 8500, 0, 31], volatility= 69.59)\n",
    "print(p.putTheta)"
   ]
  },
  {
   "cell_type": "code",
   "execution_count": 35,
   "metadata": {},
   "outputs": [
    {
     "name": "stdout",
     "output_type": "stream",
     "text": [
      "9.963404933998929\n",
      "9.864760930291412\n"
     ]
    }
   ],
   "source": [
    "# Calculating CALL Vega\n",
    "c = mibian.BS([8572, 8700, 0, 31], volatility= 67.65)\n",
    "print(c.vega)\n",
    "\n",
    "# Calculating Put Vega\n",
    "p = mibian.BS([8572, 8500, 0, 31], volatility= 69.59)\n",
    "print(p.vega)"
   ]
  },
  {
   "cell_type": "code",
   "execution_count": 36,
   "metadata": {},
   "outputs": [
    {
     "name": "stdout",
     "output_type": "stream",
     "text": [
      "0.00023599718695036784\n",
      "0.00022714677445610052\n"
     ]
    }
   ],
   "source": [
    "# Calculating CALL Gamma\n",
    "c = mibian.BS([8572, 8700, 0, 31], volatility= 67.65)\n",
    "print(c.gamma)\n",
    "\n",
    "# Calculating Put Gamma\n",
    "p = mibian.BS([8572, 8500, 0, 31], volatility= 69.59)\n",
    "print(p.gamma)"
   ]
  },
  {
   "cell_type": "code",
   "execution_count": 38,
   "metadata": {},
   "outputs": [
    {
     "name": "stdout",
     "output_type": "stream",
     "text": [
      "-2.4400000000005093\n"
     ]
    }
   ],
   "source": [
    "# Calculating Putcall Parity\n",
    "c = mibian.BS([8572, 8700, 0, 31], callPrice=614.56, putPrice=745)\n",
    "print(c.putCallParity)"
   ]
  },
  {
   "cell_type": "code",
   "execution_count": null,
   "metadata": {},
   "outputs": [],
   "source": []
  },
  {
   "cell_type": "code",
   "execution_count": null,
   "metadata": {},
   "outputs": [],
   "source": []
  },
  {
   "cell_type": "code",
   "execution_count": null,
   "metadata": {},
   "outputs": [],
   "source": []
  },
  {
   "cell_type": "code",
   "execution_count": null,
   "metadata": {},
   "outputs": [],
   "source": []
  },
  {
   "cell_type": "code",
   "execution_count": null,
   "metadata": {},
   "outputs": [],
   "source": []
  },
  {
   "cell_type": "code",
   "execution_count": null,
   "metadata": {},
   "outputs": [],
   "source": []
  },
  {
   "cell_type": "code",
   "execution_count": null,
   "metadata": {},
   "outputs": [],
   "source": []
  },
  {
   "cell_type": "code",
   "execution_count": null,
   "metadata": {},
   "outputs": [],
   "source": []
  }
 ],
 "metadata": {
  "kernelspec": {
   "display_name": "Python 3",
   "language": "python",
   "name": "python3"
  },
  "language_info": {
   "codemirror_mode": {
    "name": "ipython",
    "version": 3
   },
   "file_extension": ".py",
   "mimetype": "text/x-python",
   "name": "python",
   "nbconvert_exporter": "python",
   "pygments_lexer": "ipython3",
   "version": "3.7.4"
  }
 },
 "nbformat": 4,
 "nbformat_minor": 2
}
